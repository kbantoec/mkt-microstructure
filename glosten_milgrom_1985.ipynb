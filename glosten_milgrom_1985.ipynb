{
 "cells": [
  {
   "cell_type": "markdown",
   "metadata": {},
   "source": [
    "# Asymmetric Information Costs (AIC) in Market Microstructure\n",
    "\n",
    "This notebook explores an example for understanding intraday stock price variations. The following example also helps to explain factors that determine variables such as the order flow and the bid-ask spread. \n",
    "\n",
    "It also an experiment about how price volatility, spreads, and order flow are interrelated. The discussions cover price dynamics and the Efficient Market Hypothesis (EMH); including (1) informative order flow and (2) price discovery.\n",
    "\n",
    "## Context\n",
    "\n",
    "When investors trade on their private knowledge, their orders convey information to the rest of the market, over and above what is already publicly available. In this environment, market participants will revise their estimate of securities' values in light of the order flow: unusual buying pressure will induce price increases; unusual selling pressure, price declines.\n",
    "\n",
    "This feature can explain the existence of a __bid-ask spread__. In principle, dealers are not always as well informed as each and every customer. Traders with superior information will exploit any mispricing by dealers, buying when the ask price is lower than the fundamental value and selling when the bid price is higher. Dealers lose money when they trade with such investors. This is known as \"__adverse selection__\": due to the informational asymmetry, market makers tend to attract customers who expect to make a profit at the dealer's expense. To recoup their losses on informed orders, dealers must gain on their business with other traders (typically, liquidity/noise traders). They achieve this by means of the bid-ask spread vis-à-vis all customers.\n",
    "\n",
    "To investiguate this idea, we will focus on Glosten and Milgrom (1985). In this model the ask price exceeds the bid because the former is set in anticipation of receiving a buy order, the latter a sell order:\n",
    "\n",
    "\\begin{align}\n",
    "    a_t &= \\mathbb{E}\\left[ v | \\Omega_{t-1}, d_t = +1 \\right] \\\\\n",
    "    b_t &= \\mathbb{E}\\left[ v | \\Omega_{t-1}, d_t = -1 \\right]\n",
    "\\end{align}\n",
    "\n",
    "where, $\\Omega_{t-1}$ is the information set at $t-1$, i.e., known right up to the last trade $d_t$ with $d_t = +1$ representing a buy order direction and $d_t = -1$ representing a sell order direction."
   ]
  },
  {
   "cell_type": "code",
   "execution_count": 1,
   "metadata": {},
   "outputs": [],
   "source": [
    "%matplotlib inline\n",
    "%config InlineBackend.figure_format = 'retina'\n",
    "%config InlineBackend.rc = {'figure.figsize': (12., 6.)}\n",
    "from pandas.plotting import register_matplotlib_converters\n",
    "register_matplotlib_converters()\n",
    "import numpy as np\n",
    "import pandas as pd\n",
    "import matplotlib.pyplot as plt"
   ]
  },
  {
   "cell_type": "markdown",
   "metadata": {},
   "source": [
    "## 1. Glosten and Milgrom (1985) sequential model\n",
    "\n",
    "The purpose of this exercise is to simulate the evolution of trading prices, spread sizes and pricing errors in a multi-period version of the Glosten and Milgrom (1985) model of price formation in presence of asymmetric information.\n",
    "\n",
    "The starting values for the various underlying parameters of the model are set as follows:\n",
    "* 100 periods\n",
    "* $\\pi = 0.3$\n",
    "* $\\theta_0 = 0.5$\n",
    "* $v^H = 102$\n",
    "* $v^L = 98$"
   ]
  },
  {
   "cell_type": "code",
   "execution_count": 2,
   "metadata": {},
   "outputs": [],
   "source": [
    "periods = 100\n",
    "pi = 0.3\n",
    "theta_0 = 0.5\n",
    "vh = 102\n",
    "vl = 98"
   ]
  },
  {
   "cell_type": "markdown",
   "metadata": {},
   "source": [
    "It is assumed that the true value of the stock is equal to $v^H$ and that uninformed traders buy and sell with equal probability. Trades are for 1 share only. \n",
    "\n",
    "For each round of trading:\n",
    "1. Compute the prior probability the market maker assigns to the fact that the true value of the asset is $v^H$ and her quoted spread.\n",
    "2. Generate the arrival of a trader, which will be informed or uniformed with the appropriate probability.\n",
    "3. Compute the trading decision of the trader, i.e. B(uy) or S(ale), in accordance with her type, and the corresponding trading price.\n",
    "4. Repeat steps 1 to 3 100 times\n",
    "\n",
    "### Resolution\n",
    "\n",
    "#### First bid and ask prices in the trading day\n",
    "Dealer's initial estimate of $v$, the true value of the asset, is its __unconditional mean__ $\\mu_0$:\n",
    "\n",
    "$$ \\mu_0 = \\frac{v^H+v^L}{2} $$\n",
    "\n",
    "So:"
   ]
  },
  {
   "cell_type": "code",
   "execution_count": 3,
   "metadata": {},
   "outputs": [
    {
     "data": {
      "text/plain": [
       "100.0"
      ]
     },
     "execution_count": 3,
     "metadata": {},
     "output_type": "execute_result"
    }
   ],
   "source": [
    "vu = (vh + vl) / 2\n",
    "vu"
   ]
  },
  {
   "cell_type": "markdown",
   "metadata": {},
   "source": [
    "### Step-by-step protocol\n",
    "\n",
    "One can also express $\\theta_t = \\mathbb{P}[v=v^H | \\Omega_t]$. As it is $0.5$ here, the abovementionned definition holds. Otherwise, we should have computed\n",
    "$$ \\mu_0 = \\theta_0 \\times v^H + (1 - \\theta_0) \\times v^L. $$\n",
    "\n",
    "As we know, bid and ask prices equal their estimate of the security's value _conditional_ on a buy or sell order.\n",
    "\n",
    "Hence,\n",
    "\n",
    "\\begin{align*}\n",
    "    \\begin{cases}\n",
    "        a_t = \\mu^+ \\equiv \\mathbb{E}[v|\\Omega_{t-1},q_t>0] \\\\\n",
    "        b_t = \\mu^- \\equiv \\mathbb{E}\\left[v|\\Omega_{t-1},q_t<0\\right] \\\\\n",
    "    \\end{cases}\n",
    "\\end{align*}\n",
    "\n",
    "Ask price at $t=1$:\n",
    "\n",
    "\\begin{align*}\n",
    "a_1  &= \\mu_0 + \\pi \\left(v^H - \\mu_0\\right) \\\\\n",
    "&= \\mu_0 + \\frac{\\pi}{2} (v^H - v^L)\n",
    "\\end{align*}\n",
    "\n",
    "With the ask-side half spread equal to:\n",
    "$$ s^a_1 = \\frac{\\pi}{2} (v^H - v^L) $$\n",
    "So, $a_1$ writes down:\n",
    "$$ a_1 = \\mu_0 + s^a_1 $$\n",
    "\n",
    "Thus, the equation generalizes to:\n",
    "\n",
    "\\begin{align*}\n",
    "    a_t  &= \\mu_{t-1} + \\frac{\\pi}{2} (v^H - v^L) \\\\\n",
    "    &= \\theta_{t-1} \\times v^H + (1 - \\theta_{t-1}) \\times v^L + \\frac{\\pi}{2} (v^H - v^L).\n",
    "\\end{align*}"
   ]
  },
  {
   "cell_type": "code",
   "execution_count": 4,
   "metadata": {},
   "outputs": [
    {
     "data": {
      "text/plain": [
       "100.0"
      ]
     },
     "execution_count": 4,
     "metadata": {},
     "output_type": "execute_result"
    }
   ],
   "source": [
    "mu_0 = theta_0 * vh + (1 - theta_0) * vl\n",
    "mu_0"
   ]
  },
  {
   "cell_type": "markdown",
   "metadata": {},
   "source": [
    "\\begin{align}\n",
    "    s_t^a = \\frac{\\pi\\theta_{t-1}(1-\\theta_{t-1})}{\\pi\\theta_{t-1}+(1-\\pi)/2}(v^H-v^L).\n",
    "\\end{align}"
   ]
  },
  {
   "cell_type": "code",
   "execution_count": 5,
   "metadata": {},
   "outputs": [
    {
     "data": {
      "text/plain": [
       "0.6"
      ]
     },
     "execution_count": 5,
     "metadata": {},
     "output_type": "execute_result"
    }
   ],
   "source": [
    "sa_1 = (pi * theta_0 * (1 - theta_0))/(pi * theta_0 + (1 - pi) / 2) * (vh - vl)\n",
    "sa_1"
   ]
  },
  {
   "cell_type": "markdown",
   "metadata": {},
   "source": [
    "\\begin{align}\n",
    "    s_t^b = \\frac{\\pi\\theta_{t-1}(1-\\theta_{t-1})}{\\pi (1-\\theta_{t-1})+(1-\\pi)/2}(v^H-v^L). \n",
    "\\end{align}"
   ]
  },
  {
   "cell_type": "code",
   "execution_count": 6,
   "metadata": {},
   "outputs": [
    {
     "data": {
      "text/plain": [
       "0.6"
      ]
     },
     "execution_count": 6,
     "metadata": {},
     "output_type": "execute_result"
    }
   ],
   "source": [
    "sb_1 = (pi * theta_0 * (1 - theta_0))/(pi * (1 - theta_0) + (1 - pi) / 2) * (vh - vl)\n",
    "sb_1"
   ]
  },
  {
   "cell_type": "code",
   "execution_count": 7,
   "metadata": {},
   "outputs": [
    {
     "name": "stdout",
     "output_type": "stream",
     "text": [
      "100.6 99.4\n"
     ]
    }
   ],
   "source": [
    "a_1 = mu_0 + sa_1\n",
    "b_1 = mu_0 - sb_1\n",
    "print(a_1, b_1)"
   ]
  },
  {
   "cell_type": "markdown",
   "metadata": {},
   "source": [
    "$$ \\text{Spread size} = \\frac{a_t - b_t}{\\left(\\frac{a_t + b_t}{2}\\right)}: $$"
   ]
  },
  {
   "cell_type": "code",
   "execution_count": 8,
   "metadata": {},
   "outputs": [
    {
     "name": "stdout",
     "output_type": "stream",
     "text": [
      "The relative spread size is: 0.012\n"
     ]
    }
   ],
   "source": [
    "# spread (relative) size\n",
    "s_1 = (a_1 - b_1) / np.mean([a_1, b_1])\n",
    "print(f\"The relative spread size is: {s_1:.3f}\")"
   ]
  },
  {
   "cell_type": "code",
   "execution_count": 9,
   "metadata": {},
   "outputs": [],
   "source": [
    "def generate_arrivals(periods, pi):\n",
    "    trader_types = (np.random.uniform(0.0, 1.0, periods) > pi).astype(int)\n",
    "    trader_types[trader_types == 0] = -1\n",
    "    return trader_types"
   ]
  },
  {
   "cell_type": "code",
   "execution_count": 10,
   "metadata": {},
   "outputs": [
    {
     "data": {
      "text/plain": [
       "array([ 1, -1,  1, -1,  1, -1,  1,  1,  1,  1, -1,  1, -1,  1,  1,  1,  1,\n",
       "       -1,  1,  1,  1, -1,  1,  1,  1,  1, -1, -1,  1, -1, -1,  1,  1,  1,\n",
       "       -1, -1, -1, -1,  1, -1,  1,  1,  1, -1,  1, -1,  1,  1,  1,  1, -1,\n",
       "        1,  1,  1,  1,  1,  1,  1,  1,  1, -1, -1,  1,  1,  1,  1, -1,  1,\n",
       "        1,  1,  1,  1,  1,  1,  1,  1,  1,  1, -1, -1,  1, -1,  1,  1,  1,\n",
       "        1,  1, -1, -1, -1,  1, -1,  1,  1,  1, -1, -1, -1,  1, -1])"
      ]
     },
     "execution_count": 10,
     "metadata": {},
     "output_type": "execute_result"
    }
   ],
   "source": [
    "trader_types = generate_arrivals(periods, pi)\n",
    "trader_types"
   ]
  },
  {
   "cell_type": "code",
   "execution_count": 11,
   "metadata": {},
   "outputs": [
    {
     "data": {
      "text/plain": [
       "100.6"
      ]
     },
     "execution_count": 11,
     "metadata": {},
     "output_type": "execute_result"
    }
   ],
   "source": [
    "p_1 = a_1 if trader_types[0] == 1 else b_1\n",
    "p_1"
   ]
  },
  {
   "cell_type": "markdown",
   "metadata": {},
   "source": [
    "According to the orders that materialize, dealers revise their beliefs of what the true price value of the security should be. Here, we will apply the _update rule_ of $\\theta$ using Baye's rule.\n",
    "\n",
    "* Denote $A$ the event $v=v^L$ and $B$ tge arrival of a buy order at time $t$.\n",
    "* We want to calculate $\\mathbb{P}(A|B)$.\n",
    "* From Baye's Rule:\n",
    "\\begin{align}\n",
    "    \\mathbb{P}(A|B)\n",
    "    &= \\frac{\\mathbb{P}(A \\cap B)}{\\mathbb{P}(B)} \\\\\n",
    "    &= \\frac{\\mathbb{P}(B|A)\\mathbb{P}(A)}{\\mathbb{P}(B)}.\n",
    "\\end{align}\n",
    "\n",
    "Therefore, if a buy order arrives: $ \\theta_t^+ = \\mathbb{P}\\left[ v = v^L | \\Omega_{t-1},Buy \\right] $\n",
    "\n",
    "\\begin{align}\n",
    "    \\theta_t^+ \n",
    "    &= \\frac{P(Buy|v^L)P(v^L | \\Omega_{t-1})}{P(Buy)}  \\\\\n",
    "    &= \\frac{(1+\\pi)\\frac{1}{2}\\theta_{t-1}}{\\pi \\theta_{t-1} + (1-\\pi)\\frac{1}{2}}\n",
    "\\end{align}"
   ]
  },
  {
   "cell_type": "code",
   "execution_count": 12,
   "metadata": {},
   "outputs": [],
   "source": [
    "def theta_plus(theta_lag, pi, trade_type):\n",
    "    return ((1 + pi) / 2 * theta_lag) / ((1 - pi) / 2 + pi * theta_lag)"
   ]
  },
  {
   "cell_type": "markdown",
   "metadata": {},
   "source": [
    "The belief in case a sell order arrives summarizes to the expression: $ \\theta_t^- = \\mathbb{P}\\left[ v = v^H | \\Omega_{t-1},Sell \\right] $\n",
    "\n",
    "\\begin{align}\n",
    "    \\theta_t^- = \\frac{(1-\\pi)\\frac{1}{2}\\theta_{t-1}}{\\pi(1-\\theta_{t-1}) + (1-\\pi)\\frac{1}{2}}\n",
    "\\end{align}"
   ]
  },
  {
   "cell_type": "code",
   "execution_count": 13,
   "metadata": {},
   "outputs": [],
   "source": [
    "def theta_minus(theta_lag, pi, trade_type):\n",
    "    return ((1 - pi) / 2 * theta_lag) / ((1 - pi) / 2 + pi * (1 - theta_lag))"
   ]
  },
  {
   "cell_type": "code",
   "execution_count": 14,
   "metadata": {},
   "outputs": [
    {
     "data": {
      "text/plain": [
       "0.65"
      ]
     },
     "execution_count": 14,
     "metadata": {},
     "output_type": "execute_result"
    }
   ],
   "source": [
    "theta_1 = theta_minus(theta_0, pi, trader_types[0]) if trader_types[0] == -1 else theta_plus(theta_0, pi, trader_types[0])\n",
    "theta_1"
   ]
  },
  {
   "cell_type": "markdown",
   "metadata": {},
   "source": [
    "$$ \\text{Pricing error} = |v^H - \\mu_t| $$"
   ]
  },
  {
   "cell_type": "code",
   "execution_count": 15,
   "metadata": {},
   "outputs": [
    {
     "name": "stdout",
     "output_type": "stream",
     "text": [
      "The pricing error in the first period is: 0.600\n"
     ]
    }
   ],
   "source": [
    "# pricing error\n",
    "print(f\"The pricing error in the first period is: {np.abs(p_1 - mu_0):.3f}\")"
   ]
  },
  {
   "cell_type": "markdown",
   "metadata": {},
   "source": [
    "## The whole model"
   ]
  },
  {
   "cell_type": "code",
   "execution_count": 16,
   "metadata": {},
   "outputs": [],
   "source": [
    "def generate_sequential_model(periods, pi, theta_0, vh, vl):\n",
    "    theta_lag = []\n",
    "    theta = []\n",
    "    mu_lag = []\n",
    "    sb = []\n",
    "    sa = []\n",
    "    b = []\n",
    "    a = []\n",
    "    price = []\n",
    "    spread = []  # relative spread size\n",
    "    error = []\n",
    "    \n",
    "    trader_types = generate_arrivals(periods, pi)\n",
    "    \n",
    "    for i in range(periods):\n",
    "        if i == 0:\n",
    "            theta_lag.append(theta_0)\n",
    "            \n",
    "            mu_0 = theta_0 * vh + (1 - theta_0) * vl\n",
    "            mu_lag.append(mu_0)\n",
    "        else:\n",
    "            theta_lag.append(theta[i-1])\n",
    "            mu_lag_t1 = theta_lag[i] * vh + (1 - theta_lag[i]) * vl\n",
    "            mu_lag.append(mu_lag_t1)\n",
    "        \n",
    "        sa_t = ((pi * theta_lag[i] * (1 - theta_lag[i])) / (pi * theta_lag[i] + ((1 - pi) / 2))) * (vh - vl)\n",
    "        sa.append(sa_t)\n",
    "        \n",
    "        sb_t = ((pi * theta_lag[i] * (1 - theta_lag[i])) / (pi * (1 - theta_lag[i]) + ((1 - pi) / 2))) * (vh - vl)\n",
    "        sb.append(sb_t)\n",
    "        \n",
    "        a_t = mu_lag[i] + sa_t\n",
    "        a.append(a_t)\n",
    "        \n",
    "        b_t = mu_lag[i] - sb_t\n",
    "        b.append(b_t)\n",
    "        \n",
    "        price_t = a_t if trader_types[i] == 1 else b_t\n",
    "        price.append(price_t)\n",
    "        \n",
    "        theta_t = theta_minus(theta_lag[i], pi, trader_types[i]) if trader_types[i] == -1 else theta_plus(theta_lag[i], pi, trader_types[i])\n",
    "        theta.append(theta_t)\n",
    "        \n",
    "        spread_t = (a_t - b_t)/np.mean([a_t, b_t])\n",
    "        spread.append(spread_t)\n",
    "        \n",
    "        pricing_error = np.abs(price_t - mu_lag[i])\n",
    "        error.append(pricing_error)\n",
    "    \n",
    "    data = [theta_lag, mu_lag, sb, sa, b, a, trader_types, price, theta, spread, error]\n",
    "    columns = ['theta_{t-1}', 'mu_{t-1}', 'Sb_t', 'Sa_t', 'Bid_t', 'Ask_t', \n",
    "               'Trader type', 'Price', 'theta_t', 'Relative spread size', 'Pricing error']\n",
    "    df = pd.DataFrame(data=data).T\n",
    "    df.columns = columns\n",
    "    df.index = np.arange(1, periods + 1)\n",
    "    df.index.name = 'Round'\n",
    "    return df       "
   ]
  },
  {
   "cell_type": "code",
   "execution_count": 17,
   "metadata": {},
   "outputs": [
    {
     "data": {
      "text/html": [
       "<div>\n",
       "<style scoped>\n",
       "    .dataframe tbody tr th:only-of-type {\n",
       "        vertical-align: middle;\n",
       "    }\n",
       "\n",
       "    .dataframe tbody tr th {\n",
       "        vertical-align: top;\n",
       "    }\n",
       "\n",
       "    .dataframe thead th {\n",
       "        text-align: right;\n",
       "    }\n",
       "</style>\n",
       "<table border=\"1\" class=\"dataframe\">\n",
       "  <thead>\n",
       "    <tr style=\"text-align: right;\">\n",
       "      <th></th>\n",
       "      <th>theta_{t-1}</th>\n",
       "      <th>mu_{t-1}</th>\n",
       "      <th>Sb_t</th>\n",
       "      <th>Sa_t</th>\n",
       "      <th>Bid_t</th>\n",
       "      <th>Ask_t</th>\n",
       "      <th>Trader type</th>\n",
       "      <th>Price</th>\n",
       "      <th>theta_t</th>\n",
       "      <th>Relative spread size</th>\n",
       "      <th>Pricing error</th>\n",
       "    </tr>\n",
       "    <tr>\n",
       "      <th>Round</th>\n",
       "      <th></th>\n",
       "      <th></th>\n",
       "      <th></th>\n",
       "      <th></th>\n",
       "      <th></th>\n",
       "      <th></th>\n",
       "      <th></th>\n",
       "      <th></th>\n",
       "      <th></th>\n",
       "      <th></th>\n",
       "      <th></th>\n",
       "    </tr>\n",
       "  </thead>\n",
       "  <tbody>\n",
       "    <tr>\n",
       "      <th>1</th>\n",
       "      <td>0.50</td>\n",
       "      <td>100.0</td>\n",
       "      <td>0.600000</td>\n",
       "      <td>0.600000</td>\n",
       "      <td>99.400000</td>\n",
       "      <td>100.600000</td>\n",
       "      <td>1.0</td>\n",
       "      <td>100.6</td>\n",
       "      <td>0.65</td>\n",
       "      <td>0.012000</td>\n",
       "      <td>0.6</td>\n",
       "    </tr>\n",
       "    <tr>\n",
       "      <th>2</th>\n",
       "      <td>0.65</td>\n",
       "      <td>100.6</td>\n",
       "      <td>0.600000</td>\n",
       "      <td>0.500917</td>\n",
       "      <td>100.000000</td>\n",
       "      <td>101.100917</td>\n",
       "      <td>-1.0</td>\n",
       "      <td>100.0</td>\n",
       "      <td>0.50</td>\n",
       "      <td>0.010949</td>\n",
       "      <td>0.6</td>\n",
       "    </tr>\n",
       "    <tr>\n",
       "      <th>3</th>\n",
       "      <td>0.50</td>\n",
       "      <td>100.0</td>\n",
       "      <td>0.600000</td>\n",
       "      <td>0.600000</td>\n",
       "      <td>99.400000</td>\n",
       "      <td>100.600000</td>\n",
       "      <td>-1.0</td>\n",
       "      <td>99.4</td>\n",
       "      <td>0.35</td>\n",
       "      <td>0.012000</td>\n",
       "      <td>0.6</td>\n",
       "    </tr>\n",
       "    <tr>\n",
       "      <th>4</th>\n",
       "      <td>0.35</td>\n",
       "      <td>99.4</td>\n",
       "      <td>0.500917</td>\n",
       "      <td>0.600000</td>\n",
       "      <td>98.899083</td>\n",
       "      <td>100.000000</td>\n",
       "      <td>1.0</td>\n",
       "      <td>100.0</td>\n",
       "      <td>0.50</td>\n",
       "      <td>0.011070</td>\n",
       "      <td>0.6</td>\n",
       "    </tr>\n",
       "    <tr>\n",
       "      <th>5</th>\n",
       "      <td>0.50</td>\n",
       "      <td>100.0</td>\n",
       "      <td>0.600000</td>\n",
       "      <td>0.600000</td>\n",
       "      <td>99.400000</td>\n",
       "      <td>100.600000</td>\n",
       "      <td>1.0</td>\n",
       "      <td>100.6</td>\n",
       "      <td>0.65</td>\n",
       "      <td>0.012000</td>\n",
       "      <td>0.6</td>\n",
       "    </tr>\n",
       "  </tbody>\n",
       "</table>\n",
       "</div>"
      ],
      "text/plain": [
       "       theta_{t-1}  mu_{t-1}      Sb_t      Sa_t       Bid_t       Ask_t  \\\n",
       "Round                                                                      \n",
       "1             0.50     100.0  0.600000  0.600000   99.400000  100.600000   \n",
       "2             0.65     100.6  0.600000  0.500917  100.000000  101.100917   \n",
       "3             0.50     100.0  0.600000  0.600000   99.400000  100.600000   \n",
       "4             0.35      99.4  0.500917  0.600000   98.899083  100.000000   \n",
       "5             0.50     100.0  0.600000  0.600000   99.400000  100.600000   \n",
       "\n",
       "       Trader type  Price  theta_t  Relative spread size  Pricing error  \n",
       "Round                                                                    \n",
       "1              1.0  100.6     0.65              0.012000            0.6  \n",
       "2             -1.0  100.0     0.50              0.010949            0.6  \n",
       "3             -1.0   99.4     0.35              0.012000            0.6  \n",
       "4              1.0  100.0     0.50              0.011070            0.6  \n",
       "5              1.0  100.6     0.65              0.012000            0.6  "
      ]
     },
     "execution_count": 17,
     "metadata": {},
     "output_type": "execute_result"
    }
   ],
   "source": [
    "model1 = generate_sequential_model(periods, pi, theta_0, vh, vl)\n",
    "model1.head()"
   ]
  },
  {
   "cell_type": "code",
   "execution_count": 18,
   "metadata": {},
   "outputs": [],
   "source": [
    "def subplots_(model, figsize=(11, 5)):\n",
    "    fig, axs = plt.subplots(ncols=2, figsize=figsize)\n",
    "    ax1, ax2 = axs\n",
    "    ax1.plot(model[['Relative spread size']], color='blue')\n",
    "    ax1.grid(True, alpha=0.5)\n",
    "    ax1.set_title('Relative spread size')\n",
    "    ax2.plot(model[['Pricing error']], color='red')\n",
    "    ax2.set_title('Pricing error')\n",
    "    ax2.grid(True, alpha=0.5)\n",
    "    plt.show()"
   ]
  },
  {
   "cell_type": "code",
   "execution_count": 19,
   "metadata": {},
   "outputs": [
    {
     "data": {
      "image/png": "[encoded data removed]",
      "text/plain": [
       "<Figure size 792x360 with 2 Axes>"
      ]
     },
     "metadata": {
      "image/png": {
       "height": 318,
       "width": 665
      },
      "needs_background": "light"
     },
     "output_type": "display_data"
    }
   ],
   "source": [
    "subplots_(model1)"
   ]
  },
  {
   "cell_type": "markdown",
   "metadata": {},
   "source": [
    "## Question 1: How do spread size and pricing errors evolve over time?\n",
    "\n",
    "The __spread size__ in left plot (above) decreases with time since uncertainty is very high at the very beginning. This is why the spread is the higher at the beginning of the period.\n",
    "\n",
    "NB: Moreover, liquidity changes systematically in a much more limited time frame as well: within a single trading day, bid-ask spreads tend to feature a __U-shaped pattern__, higher at the open and at the close than during the rest of the trading day. So, we see here that we capture the uncertainty of the beginning but not the one related to the close.\n",
    "\n",
    "The __pricing error__ exhibited in above right plot also attests for the __learning process__. Indeed, after a certain time, the dealer is able to extract the true value of the stock. We see that after some time, the dealer discovers the true value of the security.\n",
    "\n",
    "We will study the speed of convergence to the true price, or price discovery speed, conditional to the number of informed traders playing in the market in later questions. That is, by setting different values for $\\pi$.\n",
    "\n",
    "## Question 2: Redo the simulations assuming that informed traders have a higher informational advantage. What do you observe?\n",
    "\n",
    "The informational advantage is the range of variation of $v$, i.e., $\\left( v^H - v^L \\right)$.\n",
    "\n",
    "Consider the (first) bid-ask spread at $t=1$:\n",
    "\n",
    "\\begin{align}\n",
    "    S_1 &= a_1 - b_1 \\\\\n",
    "        &= s^a_1 - s^b_1 \\\\\n",
    "        &= \\frac{\\pi}{2} \\left( v^H - v^L \\right) + \\frac{\\pi}{2} \\left( v^H - v^L \\right) \\\\\n",
    "        &= \\pi \\left( v^H - v^L \\right)\n",
    "\\end{align}\n",
    "\n",
    "* $\\pi$ is interpreted as the proportion of informed traders (the higher $\\pi$, the more informed traders)\n",
    "* $\\left( v^H - v^L \\right)$ is the informational advantage of informed traders\n",
    "\n",
    "So, what happens if $\\pi$ increases?\n",
    "* We should see that the price discovery fastens as there is much less noise in the market"
   ]
  },
  {
   "cell_type": "code",
   "execution_count": 20,
   "metadata": {},
   "outputs": [
    {
     "data": {
      "image/png": "[encoded data removed]",
      "text/plain": [
       "<Figure size 792x360 with 2 Axes>"
      ]
     },
     "metadata": {
      "image/png": {
       "height": 318,
       "width": 665
      },
      "needs_background": "light"
     },
     "output_type": "display_data"
    }
   ],
   "source": [
    "model2 = generate_sequential_model(periods, 0.8, theta_0, vh, vl)\n",
    "subplots_(model2)"
   ]
  },
  {
   "cell_type": "markdown",
   "metadata": {},
   "source": [
    "## Question 3: Redo the simulations assuming that the market makers faces:\n",
    "1. higher adverse selection risk\n",
    "2. lower adverse selection risk\n",
    "\n",
    "What do you observe?\n",
    "\n",
    "So, here, we have to play around the $\\left( v^H - v^L \\right)$ argument (the informational advantage of informed traders). If adverse selection is high, the range would be wide.\n",
    "\n",
    "* The more adverse selection, the wider the spread at the beginning\n",
    "* No real effect on the price discovery process\n",
    "\n",
    "Remember that, overall, the models we will see in these course (Glosten-Milgrom included) present three kinds of __cost__ for __liquidity suppliers__: \n",
    "1. __the cost of trading with better informed investors (adverse selection costs)__, \n",
    "1. the real cost of processing orders (order processing costs), and\n",
    "1. the cost of holding risky assets (inventory holding costs)."
   ]
  },
  {
   "cell_type": "code",
   "execution_count": 21,
   "metadata": {},
   "outputs": [
    {
     "data": {
      "image/png": "[encoded data removed]",
      "text/plain": [
       "<Figure size 792x360 with 2 Axes>"
      ]
     },
     "metadata": {
      "image/png": {
       "height": 318,
       "width": 659
      },
      "needs_background": "light"
     },
     "output_type": "display_data"
    }
   ],
   "source": [
    "model3 = generate_sequential_model(periods, 0.3, theta_0, 120, vl)\n",
    "subplots_(model3)"
   ]
  }
 ],
 "metadata": {
  "kernelspec": {
   "display_name": "Python 3",
   "language": "python",
   "name": "python3"
  },
  "language_info": {
   "codemirror_mode": {
    "name": "ipython",
    "version": 3
   },
   "file_extension": ".py",
   "mimetype": "text/x-python",
   "name": "python",
   "nbconvert_exporter": "python",
   "pygments_lexer": "ipython3",
   "version": "3.7.3"
  }
 },
 "nbformat": 4,
 "nbformat_minor": 2
}
